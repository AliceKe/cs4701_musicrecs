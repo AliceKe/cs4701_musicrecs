{
 "cells": [
  {
   "cell_type": "markdown",
   "metadata": {},
   "source": [
    "Apriori algorithm"
   ]
  },
  {
   "cell_type": "code",
   "execution_count": 1,
   "metadata": {},
   "outputs": [],
   "source": [
    "import pandas as pd\n",
    "from mlxtend.preprocessing import TransactionEncoder\n",
    "from mlxtend.frequent_patterns import apriori\n",
    "import numpy as np"
   ]
  },
  {
   "cell_type": "code",
   "execution_count": 2,
   "metadata": {},
   "outputs": [],
   "source": [
    "# Load the dataset\n",
    "data = pd.read_csv('data/data.csv')  # Replace with your file path"
   ]
  },
  {
   "cell_type": "code",
   "execution_count": 3,
   "metadata": {},
   "outputs": [
    {
     "name": "stdout",
     "output_type": "stream",
     "text": [
      "     support              itemsets\n",
      "0   0.209654                (Fast)\n",
      "1   0.474249                (High)\n",
      "2   0.393905                 (Low)\n",
      "3   0.858245              (Medium)\n",
      "4   0.333038                (Slow)\n",
      "5   0.102700          (Fast, High)\n",
      "6   0.071273           (Fast, Low)\n",
      "7   0.167181        (Fast, Medium)\n",
      "8   0.085349           (High, Low)\n",
      "9   0.398135        (High, Medium)\n",
      "10  0.117765          (High, Slow)\n",
      "11  0.286230         (Low, Medium)\n",
      "12  0.173153           (Low, Slow)\n",
      "13  0.233755        (Medium, Slow)\n",
      "14  0.017978     (Fast, Low, High)\n",
      "15  0.072820  (Fast, Medium, High)\n",
      "16  0.040702   (Fast, Medium, Low)\n",
      "17  0.043316   (High, Medium, Low)\n",
      "18  0.024055     (High, Low, Slow)\n",
      "19  0.071531  (High, Medium, Slow)\n",
      "20  0.096049   (Low, Medium, Slow)\n"
     ]
    }
   ],
   "source": [
    "\n",
    "# Preprocessing: Categorizing continuous features\n",
    "bins_tempo = [0, 100, 140, np.inf]\n",
    "labels_tempo = ['Slow', 'Medium', 'Fast']\n",
    "data['tempo_category'] = pd.cut(data['tempo'], bins=bins_tempo, labels=labels_tempo, right=False)\n",
    "\n",
    "def categorize_feature(feature, bins, labels):\n",
    "    return pd.cut(data[feature], bins=bins, labels=labels, right=False)\n",
    "\n",
    "# Categorize other features\n",
    "feature_bins_labels = {\n",
    "    'danceability': ([0, 0.33, 0.66, 1], ['Low', 'Medium', 'High']),\n",
    "    'energy': ([0, 0.33, 0.66, 1], ['Low', 'Medium', 'High']),\n",
    "    # Add other features here...\n",
    "}\n",
    "\n",
    "for feature, (bins, labels) in feature_bins_labels.items():\n",
    "    data[f'{feature}_cat'] = categorize_feature(feature, bins, labels)\n",
    "\n",
    "# Convert to transactions\n",
    "selected_columns = [col for col in data.columns if '_cat' in col]\n",
    "transactions = data[selected_columns].values.tolist()\n",
    "transactions = [[item for item in transaction if str(item) != 'nan'] for transaction in transactions]\n",
    "\n",
    "# Apply TransactionEncoder\n",
    "te = TransactionEncoder()\n",
    "te_ary = te.fit(transactions).transform(transactions)\n",
    "df = pd.DataFrame(te_ary, columns=te.columns_)\n",
    "\n",
    "# Apply Apriori algorithm\n",
    "frequent_itemsets = apriori(df, min_support=0.01, use_colnames=True)  # Adjust min_support as needed\n",
    "\n",
    "# Display frequent itemsets\n",
    "print(frequent_itemsets)"
   ]
  },
  {
   "cell_type": "code",
   "execution_count": 4,
   "metadata": {},
   "outputs": [
    {
     "name": "stdout",
     "output_type": "stream",
     "text": [
      "       antecedents     consequents   support  confidence      lift\n",
      "0           (Fast)          (High)  0.102700    0.489854  0.216552\n",
      "1           (High)          (Fast)  0.102700    0.216552  0.489854\n",
      "2           (Fast)           (Low)  0.071273    0.339958  0.180940\n",
      "3            (Low)          (Fast)  0.071273    0.180940  0.339958\n",
      "4           (Fast)        (Medium)  0.167181    0.797417  0.194795\n",
      "5         (Medium)          (Fast)  0.167181    0.194795  0.797417\n",
      "6           (High)           (Low)  0.085349    0.179966  0.216673\n",
      "7            (Low)          (High)  0.085349    0.216673  0.179966\n",
      "8           (High)        (Medium)  0.398135    0.839507  0.463895\n",
      "9         (Medium)          (High)  0.398135    0.463895  0.839507\n",
      "10          (High)          (Slow)  0.117765    0.248320  0.353609\n",
      "11          (Slow)          (High)  0.117765    0.353609  0.248320\n",
      "12           (Low)        (Medium)  0.286230    0.726648  0.333506\n",
      "13        (Medium)           (Low)  0.286230    0.333506  0.726648\n",
      "14           (Low)          (Slow)  0.173153    0.439580  0.519918\n",
      "15          (Slow)           (Low)  0.173153    0.519918  0.439580\n",
      "16        (Medium)          (Slow)  0.233755    0.272364  0.701886\n",
      "17          (Slow)        (Medium)  0.233755    0.701886  0.272364\n",
      "18     (Fast, Low)          (High)  0.017978    0.252240  0.037908\n",
      "19    (Fast, High)           (Low)  0.017978    0.175054  0.045640\n",
      "20     (Low, High)          (Fast)  0.017978    0.210642  0.085751\n",
      "21  (Fast, Medium)          (High)  0.072820    0.435577  0.153549\n",
      "22    (Fast, High)        (Medium)  0.072820    0.709061  0.084848\n",
      "23  (High, Medium)          (Fast)  0.072820    0.182903  0.347336\n",
      "24          (Fast)  (High, Medium)  0.072820    0.347336  0.182903\n",
      "25          (High)  (Fast, Medium)  0.072820    0.153549  0.435577\n",
      "26  (Fast, Medium)           (Low)  0.040702    0.243463  0.103331\n",
      "27     (Fast, Low)        (Medium)  0.040702    0.571076  0.047425\n",
      "28   (Low, Medium)          (Fast)  0.040702    0.142202  0.194142\n",
      "29          (Fast)   (Low, Medium)  0.040702    0.194142  0.142202\n",
      "30           (Low)  (Fast, Medium)  0.040702    0.103331  0.243463\n",
      "31  (High, Medium)           (Low)  0.043316    0.108797  0.109966\n",
      "32     (High, Low)        (Medium)  0.043316    0.507518  0.050470\n",
      "33   (Low, Medium)          (High)  0.043316    0.151333  0.091336\n",
      "34           (Low)  (High, Medium)  0.043316    0.109966  0.108797\n",
      "35     (High, Low)          (Slow)  0.024055    0.281840  0.072228\n",
      "36    (High, Slow)           (Low)  0.024055    0.204259  0.061067\n",
      "37     (Low, Slow)          (High)  0.024055    0.138922  0.050722\n",
      "38  (High, Medium)          (Slow)  0.071531    0.179665  0.214783\n",
      "39    (High, Slow)        (Medium)  0.071531    0.607404  0.083346\n",
      "40  (Medium, Slow)          (High)  0.071531    0.306009  0.150830\n",
      "41          (High)  (Medium, Slow)  0.071531    0.150830  0.306009\n",
      "42          (Slow)  (High, Medium)  0.071531    0.214783  0.179665\n",
      "43   (Low, Medium)          (Slow)  0.096049    0.335565  0.288401\n",
      "44     (Low, Slow)        (Medium)  0.096049    0.554706  0.111913\n",
      "45  (Medium, Slow)           (Low)  0.096049    0.410895  0.243837\n",
      "46           (Low)  (Medium, Slow)  0.096049    0.243837  0.410895\n",
      "47        (Medium)     (Low, Slow)  0.096049    0.111913  0.554706\n",
      "48          (Slow)   (Low, Medium)  0.096049    0.288401  0.335565\n"
     ]
    }
   ],
   "source": [
    "from mlxtend.frequent_patterns import association_rules\n",
    "\n",
    "# Generate the rules\n",
    "rules = association_rules(frequent_itemsets, metric=\"confidence\", min_threshold=0.1)  # Adjust threshold as needed\n",
    "\n",
    "# Calculate and add the lift metric\n",
    "rules[\"lift\"] = rules[\"confidence\"] / (rules[\"consequent support\"] / rules[\"antecedent support\"])\n",
    "\n",
    "# Print out the rules along with their support, confidence, and lift\n",
    "print(rules[['antecedents', 'consequents', 'support', 'confidence', 'lift']])"
   ]
  },
  {
   "cell_type": "code",
   "execution_count": null,
   "metadata": {},
   "outputs": [],
   "source": []
  }
 ],
 "metadata": {
  "kernelspec": {
   "display_name": "base",
   "language": "python",
   "name": "python3"
  },
  "language_info": {
   "codemirror_mode": {
    "name": "ipython",
    "version": 3
   },
   "file_extension": ".py",
   "mimetype": "text/x-python",
   "name": "python",
   "nbconvert_exporter": "python",
   "pygments_lexer": "ipython3",
   "version": "3.11.4"
  }
 },
 "nbformat": 4,
 "nbformat_minor": 2
}
