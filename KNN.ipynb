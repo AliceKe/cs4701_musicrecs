{
 "cells": [
  {
   "cell_type": "code",
   "execution_count": 18,
   "metadata": {},
   "outputs": [],
   "source": [
    "import numpy as np\n",
    "import pandas as pd\n",
    "import matplotlib.pyplot as plt\n",
    "import seaborn as sns\n",
    "%matplotlib inline\n",
    "sns.set_style('whitegrid')\n",
    "from sklearn.model_selection import train_test_split\n",
    "from sklearn.neighbors import KNeighborsClassifier\n",
    "from sklearn.metrics import mean_squared_error\n",
    "import math\n",
    "import seaborn as sns"
   ]
  },
  {
   "cell_type": "code",
   "execution_count": 2,
   "metadata": {},
   "outputs": [],
   "source": [
    "#read in data\n",
    "dataset = pd.read_csv('data/data.csv')"
   ]
  },
  {
   "cell_type": "code",
   "execution_count": 6,
   "metadata": {},
   "outputs": [],
   "source": [
    "#Select features and labels\n",
    "features = ['valence', 'acousticness', 'danceability', 'energy','instrumentalness', 'liveness', 'loudness', 'speechiness', 'tempo']\n",
    "x = dataset.loc[:, features].values\n",
    "y = dataset['popularity']"
   ]
  },
  {
   "cell_type": "code",
   "execution_count": 7,
   "metadata": {},
   "outputs": [],
   "source": [
    "#Split data into train, test, validation sets\n",
    "\n",
    "train_ratio = 0.75\n",
    "validation_ratio = 0.15\n",
    "test_ratio = 0.10\n",
    "\n",
    "# train is now 75% of the entire data set\n",
    "x_train, x_test, y_train, y_test = train_test_split(x, y, test_size=1 - train_ratio)\n",
    "\n",
    "# test is now 10% of the initial data set\n",
    "# validation is now 15% of the initial data set\n",
    "x_val, x_test, y_val, y_test = train_test_split(x_test, y_test, test_size=test_ratio/(test_ratio + validation_ratio)) \n"
   ]
  },
  {
   "cell_type": "code",
   "execution_count": 21,
   "metadata": {},
   "outputs": [
    {
     "name": "stdout",
     "output_type": "stream",
     "text": [
      "Previous error:  inf\n",
      "New error:  3.3603434670166967\n",
      "Previous error:  3.3603434670166967\n",
      "New error:  221.77848877637922\n",
      "Previous error:  3.3603434670166967\n",
      "New error:  353.08799193680704\n",
      "Previous error:  3.3603434670166967\n",
      "New error:  436.4410379016947\n",
      "Previous error:  3.3603434670166967\n",
      "New error:  488.17074123557495\n",
      "Previous error:  3.3603434670166967\n",
      "New error:  520.1914852057598\n",
      "Previous error:  3.3603434670166967\n",
      "New error:  537.5452656087632\n",
      "Previous error:  3.3603434670166967\n",
      "New error:  543.1842736485166\n",
      "Selected K:  1\n"
     ]
    }
   ],
   "source": [
    "K = range(1, 9)\n",
    "\n",
    "selected_k = None\n",
    "error = math.inf\n",
    "for k in K:\n",
    "    knn = KNeighborsClassifier(n_neighbors=k)\n",
    "    knn = knn.fit(x_train, y_train)\n",
    "    train_preds = knn.predict(x_train)\n",
    "    mse = mean_squared_error(y_train, train_preds)\n",
    "    \n",
    "    print(\"Previous error: \", error)\n",
    "    print(\"New error: \", mse)\n",
    "\n",
    "    if mse < error:\n",
    "        error = min(error, mse)\n",
    "        selected_k = k\n",
    "\n",
    "print(\"Selected K: \", selected_k)"
   ]
  },
  {
   "cell_type": "code",
   "execution_count": null,
   "metadata": {},
   "outputs": [],
   "source": [
    "test_preds = KNeighborsClassifier(n_neighbors= selected_k)\n",
    "cmap = sns.cubehelix_palette(as_cmap=True)\n",
    "f, ax = plt.subplots()\n",
    "points = ax.scatter(x_test[:, 0], x_test[:, 1], c=test_preds, s=50, cmap=cmap)\n",
    "f.colorbar(points)\n",
    "plt.show()"
   ]
  }
 ],
 "metadata": {
  "kernelspec": {
   "display_name": "base",
   "language": "python",
   "name": "python3"
  },
  "language_info": {
   "codemirror_mode": {
    "name": "ipython",
    "version": 3
   },
   "file_extension": ".py",
   "mimetype": "text/x-python",
   "name": "python",
   "nbconvert_exporter": "python",
   "pygments_lexer": "ipython3",
   "version": "3.11.4"
  }
 },
 "nbformat": 4,
 "nbformat_minor": 2
}
